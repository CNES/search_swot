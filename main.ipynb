{
 "cells": [
  {
   "cell_type": "markdown",
   "metadata": {},
   "source": [
    "# Search SWOT passes\n",
    "\n",
    "Use the widget below to select the area of interest (square icon). You can also\n",
    "use the `+` and `-` buttons to zoom in and out and wheel mouse to zoom in and\n",
    "out. Once you have selected the area of interest, click on the `Search` button\n",
    "to search for SWOT passes. The results are displayed in the table below and\n",
    "the swaths that intersect the area of interest are displayed on the map.\n",
    "Click on the marker to view the pass number.\n",
    "\n",
    "You can draw multiple bounding boxes, but only the last one will be used for the\n",
    "search. You can also delete one or all bounding boxes by clicking on the `trash`\n",
    "icon.\n",
    "\n",
    "At the top right side of the map, you can select the period of interest. The\n",
    "default period is the last 1 day."
   ]
  },
  {
   "cell_type": "code",
   "execution_count": null,
   "metadata": {},
   "outputs": [],
   "source": [
    "from package import MapSelection\n",
    "MapSelection().display()"
   ]
  }
 ],
 "metadata": {
  "kernelspec": {
   "display_name": "Python 3 (ipykernel)",
   "language": "python",
   "name": "python3"
  },
  "language_info": {
   "codemirror_mode": {
    "name": "ipython",
    "version": 3
   },
   "file_extension": ".py",
   "mimetype": "text/x-python",
   "name": "python",
   "nbconvert_exporter": "python",
   "pygments_lexer": "ipython3",
   "version": "3.11.5"
  }
 },
 "nbformat": 4,
 "nbformat_minor": 4
}
