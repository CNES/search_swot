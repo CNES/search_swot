{
 "cells": [
  {
   "cell_type": "markdown",
   "metadata": {},
   "source": [
    "# Search SWOT passes\n",
    "\n",
    "Use the widget below to select the area of interest (square icon). You can also\n",
    "use the '+' and '-' buttons to zoom in and out and wheel mouse to zoom in and\n",
    "out. Once you have selected the area of interest, click on the `Compute` button\n",
    "to search for SWOT passes. The results will be displayed in the table below and\n",
    "the passes that intersect the area of interest will be displayed on the map.\n",
    "Click on the marker to display the pass number.\n",
    "\n",
    "Only the latest bounding box is used for the search. You can edit the bounding\n",
    "box by clicking on the `pencil` icon. You can also delete the bounding box by\n",
    "clicking on the `trash` icon.\n",
    "\n",
    "On the right side of the map, you can select the period of interest. The\n",
    "default period is the last 21 days (one complete cycle)."
   ]
  },
  {
   "cell_type": "code",
   "execution_count": null,
   "metadata": {},
   "outputs": [],
   "source": [
    "from package import MapSelection\n",
    "MapSelection().display()"
   ]
  }
 ],
 "metadata": {
  "kernelspec": {
   "display_name": ".conda-swot",
   "language": "python",
   "name": "conda-env-.conda-swot-py"
  },
  "language_info": {
   "codemirror_mode": {
    "name": "ipython",
    "version": 3
   },
   "file_extension": ".py",
   "mimetype": "text/x-python",
   "name": "python",
   "nbconvert_exporter": "python",
   "pygments_lexer": "ipython3",
   "version": "3.11.6"
  }
 },
 "nbformat": 4,
 "nbformat_minor": 4
}
